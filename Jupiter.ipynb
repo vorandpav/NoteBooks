{
 "cells": [
  {
   "metadata": {},
   "cell_type": "markdown",
   "source": "# Лабораторная 1",
   "id": "f3731afe2f276822"
  },
  {
   "cell_type": "code",
   "id": "initial_id",
   "metadata": {
    "collapsed": true,
    "ExecuteTime": {
     "end_time": "2025-02-17T18:00:28.966677Z",
     "start_time": "2025-02-17T18:00:28.479581Z"
    }
   },
   "source": [
    "import numpy as np\n",
    "import matplotlib.pyplot as plt\n",
    "from jinja2.utils import concat\n"
   ],
   "outputs": [],
   "execution_count": 1
  },
  {
   "metadata": {},
   "cell_type": "markdown",
   "source": "## I. Подготовка данных и базовые операции с NumPy",
   "id": "f10586845e64064c"
  },
  {
   "metadata": {},
   "cell_type": "markdown",
   "source": "### 1. Загрузка и подготовка данных:",
   "id": "f7beee33bd50b56c"
  },
  {
   "metadata": {},
   "cell_type": "markdown",
   "source": "#### Загрузите набор данных о прокате велосипедов в Сеуле и исследуйте его структуру.",
   "id": "e65dc8eda6a6e09e"
  },
  {
   "metadata": {
    "ExecuteTime": {
     "end_time": "2025-02-17T21:01:13.571810Z",
     "start_time": "2025-02-17T21:01:13.480363Z"
    }
   },
   "cell_type": "code",
   "source": [
    "# загрузка данных\n",
    "data = np.genfromtxt('SeoulBikeData.csv', delimiter=',', names=True, dtype=None)\n"
   ],
   "id": "8445778f9bac449c",
   "outputs": [],
   "execution_count": 183
  },
  {
   "metadata": {
    "ExecuteTime": {
     "end_time": "2025-02-17T21:01:13.940261Z",
     "start_time": "2025-02-17T21:01:13.936534Z"
    }
   },
   "cell_type": "code",
   "source": [
    "# первые 5 строк\n",
    "data[:5]\n"
   ],
   "id": "5770ad6f693c03d5",
   "outputs": [
    {
     "data": {
      "text/plain": [
       "array([('01/12/2017', 254, 0, -5.2, 37, 2.2, 2000, -17.6, 0., 0., 0., 'Winter', 'No Holiday', 'Yes'),\n",
       "       ('01/12/2017', 204, 1, -5.5, 38, 0.8, 2000, -17.6, 0., 0., 0., 'Winter', 'No Holiday', 'Yes'),\n",
       "       ('01/12/2017', 173, 2, -6. , 39, 1. , 2000, -17.7, 0., 0., 0., 'Winter', 'No Holiday', 'Yes'),\n",
       "       ('01/12/2017', 107, 3, -6.2, 40, 0.9, 2000, -17.6, 0., 0., 0., 'Winter', 'No Holiday', 'Yes'),\n",
       "       ('01/12/2017',  78, 4, -6. , 36, 2.3, 2000, -18.6, 0., 0., 0., 'Winter', 'No Holiday', 'Yes')],\n",
       "      dtype=[('Date', '<U10'), ('Rented_Bike_Count', '<i8'), ('Hour', '<i8'), ('Temperature°C', '<f8'), ('Humidity', '<i8'), ('Wind_speed_ms', '<f8'), ('Visibility_10m', '<i8'), ('Dew_point_temperature°C', '<f8'), ('Solar_Radiation_MJm2', '<f8'), ('Rainfallmm', '<f8'), ('Snowfall_cm', '<f8'), ('Seasons', '<U6'), ('Holiday', '<U10'), ('Functioning_Day', '<U3')])"
      ]
     },
     "execution_count": 184,
     "metadata": {},
     "output_type": "execute_result"
    }
   ],
   "execution_count": 184
  },
  {
   "metadata": {
    "ExecuteTime": {
     "end_time": "2025-02-17T21:01:14.504066Z",
     "start_time": "2025-02-17T21:01:14.501271Z"
    }
   },
   "cell_type": "code",
   "source": [
    "# размер данных\n",
    "data_length = data.shape[0]\n",
    "data_length\n"
   ],
   "id": "5046a33533279c8d",
   "outputs": [
    {
     "data": {
      "text/plain": [
       "8760"
      ]
     },
     "execution_count": 185,
     "metadata": {},
     "output_type": "execute_result"
    }
   ],
   "execution_count": 185
  },
  {
   "metadata": {
    "ExecuteTime": {
     "end_time": "2025-02-17T21:01:15.212453Z",
     "start_time": "2025-02-17T21:01:15.203446Z"
    }
   },
   "cell_type": "code",
   "source": [
    "# анализ каждого столбца\n",
    "for name in data.dtype.names:\n",
    "    unique_values = np.unique(data[name])\n",
    "\n",
    "    print(name)\n",
    "    print('Тип:', unique_values.dtype)\n",
    "\n",
    "    if len(unique_values) < 5:\n",
    "        print('Уникальные значения:', unique_values)\n",
    "    else:\n",
    "        print('Первые 5 уникальных значений:', unique_values[:5], 'Всего:', len(unique_values))\n",
    "\n",
    "    if np.issubdtype(unique_values.dtype, np.number):\n",
    "        print('Минимум:', np.min(unique_values), 'Максимум:', np.max(unique_values))\n",
    "\n",
    "    print()\n"
   ],
   "id": "2e68e1aa63c02c6f",
   "outputs": [
    {
     "name": "stdout",
     "output_type": "stream",
     "text": [
      "Date\n",
      "Тип: <U10\n",
      "Первые 5 уникальных значений: ['01/01/2018' '01/02/2018' '01/03/2018' '01/04/2018' '01/05/2018'] Всего: 365\n",
      "\n",
      "Rented_Bike_Count\n",
      "Тип: int64\n",
      "Первые 5 уникальных значений: [0 2 3 4 5] Всего: 2166\n",
      "Минимум: 0 Максимум: 3556\n",
      "\n",
      "Hour\n",
      "Тип: int64\n",
      "Первые 5 уникальных значений: [0 1 2 3 4] Всего: 24\n",
      "Минимум: 0 Максимум: 23\n",
      "\n",
      "Temperature°C\n",
      "Тип: float64\n",
      "Первые 5 уникальных значений: [-17.8 -17.5 -17.4 -16.9 -16.5] Всего: 546\n",
      "Минимум: -17.8 Максимум: 39.4\n",
      "\n",
      "Humidity\n",
      "Тип: int64\n",
      "Первые 5 уникальных значений: [ 0 10 11 12 13] Всего: 90\n",
      "Минимум: 0 Максимум: 98\n",
      "\n",
      "Wind_speed_ms\n",
      "Тип: float64\n",
      "Первые 5 уникальных значений: [0.  0.1 0.2 0.3 0.4] Всего: 65\n",
      "Минимум: 0.0 Максимум: 7.4\n",
      "\n",
      "Visibility_10m\n",
      "Тип: int64\n",
      "Первые 5 уникальных значений: [27 33 34 38 53] Всего: 1789\n",
      "Минимум: 27 Максимум: 2000\n",
      "\n",
      "Dew_point_temperature°C\n",
      "Тип: float64\n",
      "Первые 5 уникальных значений: [-30.6 -30.5 -29.8 -29.7 -29.6] Всего: 556\n",
      "Минимум: -30.6 Максимум: 27.2\n",
      "\n",
      "Solar_Radiation_MJm2\n",
      "Тип: float64\n",
      "Первые 5 уникальных значений: [0.   0.01 0.02 0.03 0.04] Всего: 345\n",
      "Минимум: 0.0 Максимум: 3.52\n",
      "\n",
      "Rainfallmm\n",
      "Тип: float64\n",
      "Первые 5 уникальных значений: [0.  0.1 0.2 0.3 0.4] Всего: 61\n",
      "Минимум: 0.0 Максимум: 35.0\n",
      "\n",
      "Snowfall_cm\n",
      "Тип: float64\n",
      "Первые 5 уникальных значений: [0.  0.1 0.2 0.3 0.4] Всего: 51\n",
      "Минимум: 0.0 Максимум: 8.8\n",
      "\n",
      "Seasons\n",
      "Тип: <U6\n",
      "Уникальные значения: ['Autumn' 'Spring' 'Summer' 'Winter']\n",
      "\n",
      "Holiday\n",
      "Тип: <U10\n",
      "Уникальные значения: ['Holiday' 'No Holiday']\n",
      "\n",
      "Functioning_Day\n",
      "Тип: <U3\n",
      "Уникальные значения: ['No' 'Yes']\n",
      "\n"
     ]
    }
   ],
   "execution_count": 186
  },
  {
   "metadata": {},
   "cell_type": "markdown",
   "source": "#### Выполните предварительную обработку данных (например, удалите пропущенные значения или преобразуйте категориальные переменные).",
   "id": "4f7162e22d7e919c"
  },
  {
   "metadata": {
    "ExecuteTime": {
     "end_time": "2025-02-17T21:01:16.359061Z",
     "start_time": "2025-02-17T21:01:16.354340Z"
    }
   },
   "cell_type": "code",
   "source": [
    "# проверка на пропущенные значения\n",
    "for name in data.dtype.names:\n",
    "    if np.issubdtype(data[name].dtype, np.number):\n",
    "        print(name, np.isnan(data[name]).sum())\n",
    "    else:\n",
    "        print(name, np.char.equal(data[name], '').sum())\n"
   ],
   "id": "f9c310d6bbdb32af",
   "outputs": [
    {
     "name": "stdout",
     "output_type": "stream",
     "text": [
      "Date 0\n",
      "Rented_Bike_Count 0\n",
      "Hour 0\n",
      "Temperature°C 0\n",
      "Humidity 0\n",
      "Wind_speed_ms 0\n",
      "Visibility_10m 0\n",
      "Dew_point_temperature°C 0\n",
      "Solar_Radiation_MJm2 0\n",
      "Rainfallmm 0\n",
      "Snowfall_cm 0\n",
      "Seasons 0\n",
      "Holiday 0\n",
      "Functioning_Day 0\n"
     ]
    }
   ],
   "execution_count": 187
  },
  {
   "metadata": {
    "ExecuteTime": {
     "end_time": "2025-02-17T21:01:17.040584Z",
     "start_time": "2025-02-17T21:01:17.023535Z"
    }
   },
   "cell_type": "code",
   "source": [
    "# преобразование даты из строкового формата Д/М/Г в числовой формат\n",
    "date = data['Date']\n",
    "\n",
    "date = np.array(\n",
    "    [np.datetime64(\n",
    "        f'{d.split('/')[2]}-{d.split('/')[1]}-{d.split('/')[0]}')\n",
    "        for d in date])\n",
    "\n",
    "date_numeric = date.astype('int')\n",
    "date_numeric = date_numeric - np.min(date_numeric)\n",
    "\n",
    "(date, date_numeric)\n"
   ],
   "id": "61814ce966931e6f",
   "outputs": [
    {
     "data": {
      "text/plain": [
       "(array(['2017-12-01', '2017-12-01', '2017-12-01', ..., '2018-11-30',\n",
       "        '2018-11-30', '2018-11-30'], shape=(8760,), dtype='datetime64[D]'),\n",
       " array([  0,   0,   0, ..., 364, 364, 364], shape=(8760,)))"
      ]
     },
     "execution_count": 188,
     "metadata": {},
     "output_type": "execute_result"
    }
   ],
   "execution_count": 188
  },
  {
   "metadata": {
    "ExecuteTime": {
     "end_time": "2025-02-17T21:01:18.066406Z",
     "start_time": "2025-02-17T21:01:18.054152Z"
    }
   },
   "cell_type": "code",
   "source": [
    "# преобразование категориальных переменных\n",
    "season = data['Seasons']\n",
    "season_numeric = np.array([0 if s == 'Winter' else 1 if s == 'Spring' else 2 if s == 'Summer' else 3 for s in season])\n",
    "\n",
    "holiday = data['Holiday']\n",
    "holiday_numeric = np.array([1 if h == 'Holiday' else 0 for h in holiday])\n",
    "\n",
    "functioning_day = data['Functioning_Day']\n",
    "functioning_day_numeric = np.array([1 if f == 'Yes' else 0 for f in functioning_day])\n",
    "\n",
    "(season, season_numeric, holiday, holiday_numeric, functioning_day, functioning_day_numeric)\n"
   ],
   "id": "5d72798196090953",
   "outputs": [
    {
     "data": {
      "text/plain": [
       "(array(['Winter', 'Winter', 'Winter', ..., 'Autumn', 'Autumn', 'Autumn'],\n",
       "       shape=(8760,), dtype='<U6'),\n",
       " array([0, 0, 0, ..., 3, 3, 3], shape=(8760,)),\n",
       " array(['No Holiday', 'No Holiday', 'No Holiday', ..., 'No Holiday',\n",
       "        'No Holiday', 'No Holiday'], shape=(8760,), dtype='<U10'),\n",
       " array([0, 0, 0, ..., 0, 0, 0], shape=(8760,)),\n",
       " array(['Yes', 'Yes', 'Yes', ..., 'Yes', 'Yes', 'Yes'],\n",
       "       shape=(8760,), dtype='<U3'),\n",
       " array([1, 1, 1, ..., 1, 1, 1], shape=(8760,)))"
      ]
     },
     "execution_count": 189,
     "metadata": {},
     "output_type": "execute_result"
    }
   ],
   "execution_count": 189
  },
  {
   "metadata": {
    "ExecuteTime": {
     "end_time": "2025-02-17T21:01:19.037744Z",
     "start_time": "2025-02-17T21:01:19.015164Z"
    }
   },
   "cell_type": "code",
   "source": [
    "# новая матрица числовых данных\n",
    "columns = [\n",
    "    (\"Date\", date.dtype, date),\n",
    "    *[\n",
    "        (name, np.float64, data[name]) if np.issubdtype(data[name].dtype, np.number)\n",
    "        else (name, data[name].dtype, data[name])\n",
    "        for name in data.dtype.names[1:]\n",
    "    ],\n",
    "    (\"Date_numeric\", np.float64, date_numeric),\n",
    "    (\"Season_numeric\", np.float64, season_numeric),\n",
    "    (\"Holiday_numeric\", np.float64, holiday_numeric),\n",
    "    (\"Functioning_day_numeric\", np.float64, functioning_day_numeric),\n",
    "]\n",
    "\n",
    "dtype = [(name, dtype) for name, dtype, _ in columns]\n",
    "data = np.array(list(zip(*[values for _, _, values in columns])), dtype=dtype)\n",
    "\n",
    "data[:5]\n"
   ],
   "id": "f3dd3c33863cc09b",
   "outputs": [
    {
     "data": {
      "text/plain": [
       "array([('2017-12-01', 254., 0., -5.2, 37., 2.2, 2000., -17.6, 0., 0., 0., 'Winter', 'No Holiday', 'Yes', 0., 0., 0., 1.),\n",
       "       ('2017-12-01', 204., 1., -5.5, 38., 0.8, 2000., -17.6, 0., 0., 0., 'Winter', 'No Holiday', 'Yes', 0., 0., 0., 1.),\n",
       "       ('2017-12-01', 173., 2., -6. , 39., 1. , 2000., -17.7, 0., 0., 0., 'Winter', 'No Holiday', 'Yes', 0., 0., 0., 1.),\n",
       "       ('2017-12-01', 107., 3., -6.2, 40., 0.9, 2000., -17.6, 0., 0., 0., 'Winter', 'No Holiday', 'Yes', 0., 0., 0., 1.),\n",
       "       ('2017-12-01',  78., 4., -6. , 36., 2.3, 2000., -18.6, 0., 0., 0., 'Winter', 'No Holiday', 'Yes', 0., 0., 0., 1.)],\n",
       "      dtype=[('Date', '<M8[D]'), ('Rented_Bike_Count', '<f8'), ('Hour', '<f8'), ('Temperature°C', '<f8'), ('Humidity', '<f8'), ('Wind_speed_ms', '<f8'), ('Visibility_10m', '<f8'), ('Dew_point_temperature°C', '<f8'), ('Solar_Radiation_MJm2', '<f8'), ('Rainfallmm', '<f8'), ('Snowfall_cm', '<f8'), ('Seasons', '<U6'), ('Holiday', '<U10'), ('Functioning_Day', '<U3'), ('Date_numeric', '<f8'), ('Season_numeric', '<f8'), ('Holiday_numeric', '<f8'), ('Functioning_day_numeric', '<f8')])"
      ]
     },
     "execution_count": 190,
     "metadata": {},
     "output_type": "execute_result"
    }
   ],
   "execution_count": 190
  },
  {
   "metadata": {},
   "cell_type": "markdown",
   "source": "### 2. Основные операции с NumPy:\n",
   "id": "747eec8afe8b081e"
  },
  {
   "metadata": {},
   "cell_type": "markdown",
   "source": [
    "#### Создайте векторы и матрицы с использованием np.array(), соответствующие данным из набора. Это могут быть временные ряды или другие важные метрики.\n",
    "\n",
    "#### Используйте матрицы и векторы для представления различных параметров, таких как количество прокачанных велосипедов, температура, влажность и другие переменные."
   ],
   "id": "37c822d57adc1866"
  },
  {
   "metadata": {},
   "cell_type": "markdown",
   "source": "##### Векторы:",
   "id": "78673ee462bc3b18"
  },
  {
   "metadata": {
    "ExecuteTime": {
     "end_time": "2025-02-17T21:01:31.392410Z",
     "start_time": "2025-02-17T21:01:31.385762Z"
    }
   },
   "cell_type": "code",
   "source": [
    "date = data['Date']\n",
    "date_numeric = data['Date_numeric']\n",
    "rented_bike_count = data['Rented_Bike_Count']\n",
    "hour = data['Hour']\n",
    "temperature = data['Temperature°C']\n",
    "humidity = data['Humidity']\n",
    "wind_speed = data['Wind_speed_ms']\n",
    "visibility = data['Visibility_10m']\n",
    "dew_point_temperature = data['Dew_point_temperature°C']\n",
    "solar_radiation = data['Solar_Radiation_MJm2']\n",
    "rainfall = data['Rainfallmm']\n",
    "snowfall = data['Snowfall_cm']\n",
    "season = data['Seasons']\n",
    "season_numeric = data['Season_numeric']\n",
    "holiday = data['Holiday']\n",
    "holiday_numeric = data['Holiday_numeric']\n",
    "functioning_day = data['Functioning_Day']\n",
    "functioning_day_numeric = data['Functioning_day_numeric']\n",
    "\n",
    "(date, date_numeric, rented_bike_count, hour, temperature, humidity, wind_speed, visibility, dew_point_temperature,\n",
    " solar_radiation, rainfall, snowfall, season, season_numeric, holiday, holiday_numeric, functioning_day,\n",
    " functioning_day_numeric)\n"
   ],
   "id": "6c719ce0fd0faa51",
   "outputs": [
    {
     "data": {
      "text/plain": [
       "(array(['2017-12-01', '2017-12-01', '2017-12-01', ..., '2018-11-30',\n",
       "        '2018-11-30', '2018-11-30'], shape=(8760,), dtype='datetime64[D]'),\n",
       " array([  0.,   0.,   0., ..., 364., 364., 364.], shape=(8760,)),\n",
       " array([254., 204., 173., ..., 694., 712., 584.], shape=(8760,)),\n",
       " array([ 0.,  1.,  2., ..., 21., 22., 23.], shape=(8760,)),\n",
       " array([-5.2, -5.5, -6. , ...,  2.6,  2.1,  1.9], shape=(8760,)),\n",
       " array([37., 38., 39., ..., 39., 41., 43.], shape=(8760,)),\n",
       " array([2.2, 0.8, 1. , ..., 0.3, 1. , 1.3], shape=(8760,)),\n",
       " array([2000., 2000., 2000., ..., 1968., 1859., 1909.], shape=(8760,)),\n",
       " array([-17.6, -17.6, -17.7, ...,  -9.9,  -9.8,  -9.3], shape=(8760,)),\n",
       " array([0., 0., 0., ..., 0., 0., 0.], shape=(8760,)),\n",
       " array([0., 0., 0., ..., 0., 0., 0.], shape=(8760,)),\n",
       " array([0., 0., 0., ..., 0., 0., 0.], shape=(8760,)),\n",
       " array(['Winter', 'Winter', 'Winter', ..., 'Autumn', 'Autumn', 'Autumn'],\n",
       "       shape=(8760,), dtype='<U6'),\n",
       " array([0., 0., 0., ..., 3., 3., 3.], shape=(8760,)),\n",
       " array(['No Holiday', 'No Holiday', 'No Holiday', ..., 'No Holiday',\n",
       "        'No Holiday', 'No Holiday'], shape=(8760,), dtype='<U10'),\n",
       " array([0., 0., 0., ..., 0., 0., 0.], shape=(8760,)),\n",
       " array(['Yes', 'Yes', 'Yes', ..., 'Yes', 'Yes', 'Yes'],\n",
       "       shape=(8760,), dtype='<U3'),\n",
       " array([1., 1., 1., ..., 1., 1., 1.], shape=(8760,)))"
      ]
     },
     "execution_count": 191,
     "metadata": {},
     "output_type": "execute_result"
    }
   ],
   "execution_count": 191
  },
  {
   "metadata": {},
   "cell_type": "markdown",
   "source": "##### Матрицы:",
   "id": "f9b6f109fcec2253"
  },
  {
   "metadata": {
    "ExecuteTime": {
     "end_time": "2025-02-17T21:01:39.193525Z",
     "start_time": "2025-02-17T21:01:39.188782Z"
    }
   },
   "cell_type": "code",
   "source": [
    "# матрица погодных условий\n",
    "weather_matrix = np.array([\n",
    "    temperature,\n",
    "    humidity,\n",
    "    wind_speed,\n",
    "    visibility,\n",
    "    dew_point_temperature,\n",
    "    solar_radiation,\n",
    "    rainfall,\n",
    "    snowfall,\n",
    "]).T\n",
    "weather_matrix\n"
   ],
   "id": "c4ec5cdf5ab6dee3",
   "outputs": [
    {
     "data": {
      "text/plain": [
       "array([[-5.2, 37. ,  2.2, ...,  0. ,  0. ,  0. ],\n",
       "       [-5.5, 38. ,  0.8, ...,  0. ,  0. ,  0. ],\n",
       "       [-6. , 39. ,  1. , ...,  0. ,  0. ,  0. ],\n",
       "       ...,\n",
       "       [ 2.6, 39. ,  0.3, ...,  0. ,  0. ,  0. ],\n",
       "       [ 2.1, 41. ,  1. , ...,  0. ,  0. ,  0. ],\n",
       "       [ 1.9, 43. ,  1.3, ...,  0. ,  0. ,  0. ]], shape=(8760, 8))"
      ]
     },
     "execution_count": 192,
     "metadata": {},
     "output_type": "execute_result"
    }
   ],
   "execution_count": 192
  },
  {
   "metadata": {
    "ExecuteTime": {
     "end_time": "2025-02-17T21:01:39.975037Z",
     "start_time": "2025-02-17T21:01:39.968838Z"
    }
   },
   "cell_type": "code",
   "source": [
    "# матрица дат\n",
    "date_matrix = np.array([\n",
    "    date,\n",
    "    date_numeric,\n",
    "    season,\n",
    "    season_numeric,\n",
    "    holiday,\n",
    "    holiday_numeric,\n",
    "    functioning_day,\n",
    "    functioning_day_numeric,\n",
    "]).T\n",
    "date_matrix\n"
   ],
   "id": "afa9d8c1fa5ea163",
   "outputs": [
    {
     "data": {
      "text/plain": [
       "array([[datetime.date(2017, 12, 1), 0.0, 'Winter', ..., 0.0, 'Yes', 1.0],\n",
       "       [datetime.date(2017, 12, 1), 0.0, 'Winter', ..., 0.0, 'Yes', 1.0],\n",
       "       [datetime.date(2017, 12, 1), 0.0, 'Winter', ..., 0.0, 'Yes', 1.0],\n",
       "       ...,\n",
       "       [datetime.date(2018, 11, 30), 364.0, 'Autumn', ..., 0.0, 'Yes',\n",
       "        1.0],\n",
       "       [datetime.date(2018, 11, 30), 364.0, 'Autumn', ..., 0.0, 'Yes',\n",
       "        1.0],\n",
       "       [datetime.date(2018, 11, 30), 364.0, 'Autumn', ..., 0.0, 'Yes',\n",
       "        1.0]], shape=(8760, 8), dtype=object)"
      ]
     },
     "execution_count": 193,
     "metadata": {},
     "output_type": "execute_result"
    }
   ],
   "execution_count": 193
  },
  {
   "metadata": {},
   "cell_type": "markdown",
   "source": "### 3. Индексация и срезы:",
   "id": "ec82e78d169715d"
  },
  {
   "metadata": {},
   "cell_type": "markdown",
   "source": "#### Извлеките подматрицы данных (например, данные по отдельным дням или месяцам).\n",
   "id": "a2e6a63c7c2f219"
  },
  {
   "metadata": {
    "ExecuteTime": {
     "end_time": "2025-02-17T21:05:32.582014Z",
     "start_time": "2025-02-17T21:05:32.569994Z"
    }
   },
   "cell_type": "code",
   "source": [
    "# данные за первые 5 дней\n",
    "\n",
    "first_five_days_mask = data['Date'] < np.datetime64('2017-12-06')\n",
    "first_five_days_data = data[first_five_days_mask]\n",
    "\n",
    "first_five_days_data\n"
   ],
   "id": "5b1527d3c13ae81b",
   "outputs": [
    {
     "data": {
      "text/plain": [
       "array([('2017-12-01', 254.,  0., -5.2, 37., 2.2, 2000., -17.6, 0.  , 0. , 0., 'Winter', 'No Holiday', 'Yes', 0., 0., 0., 1.),\n",
       "       ('2017-12-01', 204.,  1., -5.5, 38., 0.8, 2000., -17.6, 0.  , 0. , 0., 'Winter', 'No Holiday', 'Yes', 0., 0., 0., 1.),\n",
       "       ('2017-12-01', 173.,  2., -6. , 39., 1. , 2000., -17.7, 0.  , 0. , 0., 'Winter', 'No Holiday', 'Yes', 0., 0., 0., 1.),\n",
       "       ('2017-12-01', 107.,  3., -6.2, 40., 0.9, 2000., -17.6, 0.  , 0. , 0., 'Winter', 'No Holiday', 'Yes', 0., 0., 0., 1.),\n",
       "       ('2017-12-01',  78.,  4., -6. , 36., 2.3, 2000., -18.6, 0.  , 0. , 0., 'Winter', 'No Holiday', 'Yes', 0., 0., 0., 1.),\n",
       "       ('2017-12-01', 100.,  5., -6.4, 37., 1.5, 2000., -18.7, 0.  , 0. , 0., 'Winter', 'No Holiday', 'Yes', 0., 0., 0., 1.),\n",
       "       ('2017-12-01', 181.,  6., -6.6, 35., 1.3, 2000., -19.5, 0.  , 0. , 0., 'Winter', 'No Holiday', 'Yes', 0., 0., 0., 1.),\n",
       "       ('2017-12-01', 460.,  7., -7.4, 38., 0.9, 2000., -19.3, 0.  , 0. , 0., 'Winter', 'No Holiday', 'Yes', 0., 0., 0., 1.),\n",
       "       ('2017-12-01', 930.,  8., -7.6, 37., 1.1, 2000., -19.8, 0.01, 0. , 0., 'Winter', 'No Holiday', 'Yes', 0., 0., 0., 1.),\n",
       "       ('2017-12-01', 490.,  9., -6.5, 27., 0.5, 1928., -22.4, 0.23, 0. , 0., 'Winter', 'No Holiday', 'Yes', 0., 0., 0., 1.),\n",
       "       ('2017-12-01', 339., 10., -3.5, 24., 1.2, 1996., -21.2, 0.65, 0. , 0., 'Winter', 'No Holiday', 'Yes', 0., 0., 0., 1.),\n",
       "       ('2017-12-01', 360., 11., -0.5, 21., 1.3, 1936., -20.2, 0.94, 0. , 0., 'Winter', 'No Holiday', 'Yes', 0., 0., 0., 1.),\n",
       "       ('2017-12-01', 449., 12.,  1.7, 23., 1.4, 2000., -17.2, 1.11, 0. , 0., 'Winter', 'No Holiday', 'Yes', 0., 0., 0., 1.),\n",
       "       ('2017-12-01', 451., 13.,  2.4, 25., 1.6, 2000., -15.6, 1.16, 0. , 0., 'Winter', 'No Holiday', 'Yes', 0., 0., 0., 1.),\n",
       "       ('2017-12-01', 447., 14.,  3. , 26., 2. , 2000., -14.6, 1.01, 0. , 0., 'Winter', 'No Holiday', 'Yes', 0., 0., 0., 1.),\n",
       "       ('2017-12-01', 463., 15.,  2.1, 36., 3.2, 2000., -11.4, 0.54, 0. , 0., 'Winter', 'No Holiday', 'Yes', 0., 0., 0., 1.),\n",
       "       ('2017-12-01', 484., 16.,  1.2, 54., 4.2,  793.,  -7. , 0.24, 0. , 0., 'Winter', 'No Holiday', 'Yes', 0., 0., 0., 1.),\n",
       "       ('2017-12-01', 555., 17.,  0.8, 58., 1.6, 2000.,  -6.5, 0.08, 0. , 0., 'Winter', 'No Holiday', 'Yes', 0., 0., 0., 1.),\n",
       "       ('2017-12-01', 862., 18.,  0.6, 66., 1.4, 2000.,  -5. , 0.  , 0. , 0., 'Winter', 'No Holiday', 'Yes', 0., 0., 0., 1.),\n",
       "       ('2017-12-01', 600., 19.,  0. , 77., 1.7, 2000.,  -3.5, 0.  , 0. , 0., 'Winter', 'No Holiday', 'Yes', 0., 0., 0., 1.),\n",
       "       ('2017-12-01', 426., 20., -0.3, 79., 1.5, 1913.,  -3.5, 0.  , 0. , 0., 'Winter', 'No Holiday', 'Yes', 0., 0., 0., 1.),\n",
       "       ('2017-12-01', 405., 21., -0.8, 81., 0.8, 1687.,  -3.6, 0.  , 0. , 0., 'Winter', 'No Holiday', 'Yes', 0., 0., 0., 1.),\n",
       "       ('2017-12-01', 398., 22., -0.9, 83., 1.5, 1380.,  -3.4, 0.  , 0. , 0., 'Winter', 'No Holiday', 'Yes', 0., 0., 0., 1.),\n",
       "       ('2017-12-01', 323., 23., -1.3, 84., 1. , 1265.,  -3.6, 0.  , 0. , 0., 'Winter', 'No Holiday', 'Yes', 0., 0., 0., 1.),\n",
       "       ('2017-12-02', 328.,  0., -1.8, 87., 1.1,  994.,  -3.6, 0.  , 0. , 0., 'Winter', 'No Holiday', 'Yes', 1., 0., 0., 1.),\n",
       "       ('2017-12-02', 308.,  1., -2.2, 86., 0.6,  990.,  -4.2, 0.  , 0. , 0., 'Winter', 'No Holiday', 'Yes', 1., 0., 0., 1.),\n",
       "       ('2017-12-02', 262.,  2., -2.9, 86., 1.5, 1256.,  -4.9, 0.  , 0. , 0., 'Winter', 'No Holiday', 'Yes', 1., 0., 0., 1.),\n",
       "       ('2017-12-02', 167.,  3., -3.5, 81., 2.2, 1221.,  -6.2, 0.  , 0. , 0., 'Winter', 'No Holiday', 'Yes', 1., 0., 0., 1.),\n",
       "       ('2017-12-02',  89.,  4., -3.8, 79., 2. , 1167.,  -6.9, 0.  , 0. , 0., 'Winter', 'No Holiday', 'Yes', 1., 0., 0., 1.),\n",
       "       ('2017-12-02',  79.,  5., -4. , 79., 1.5, 1202.,  -7.1, 0.  , 0. , 0., 'Winter', 'No Holiday', 'Yes', 1., 0., 0., 1.),\n",
       "       ('2017-12-02',  70.,  6., -4.3, 82., 2.1, 1178.,  -6.9, 0.  , 0. , 0., 'Winter', 'No Holiday', 'Yes', 1., 0., 0., 1.),\n",
       "       ('2017-12-02', 146.,  7., -4.4, 81., 2.5, 1276.,  -7.1, 0.  , 0. , 0., 'Winter', 'No Holiday', 'Yes', 1., 0., 0., 1.),\n",
       "       ('2017-12-02', 219.,  8., -4.2, 79., 2.1, 1436.,  -7.3, 0.01, 0. , 0., 'Winter', 'No Holiday', 'Yes', 1., 0., 0., 1.),\n",
       "       ('2017-12-02', 328.,  9., -2.9, 68., 1.6, 1487.,  -7.9, 0.3 , 0. , 0., 'Winter', 'No Holiday', 'Yes', 1., 0., 0., 1.),\n",
       "       ('2017-12-02', 334., 10., -0.4, 57., 1.6, 1309.,  -7.8, 0.8 , 0. , 0., 'Winter', 'No Holiday', 'Yes', 1., 0., 0., 1.),\n",
       "       ('2017-12-02', 388., 11.,  1.9, 49., 1.8, 1406.,  -7.7, 1.  , 0. , 0., 'Winter', 'No Holiday', 'Yes', 1., 0., 0., 1.),\n",
       "       ('2017-12-02', 479., 12.,  4.3, 41., 1.3, 1666.,  -7.8, 1.09, 0. , 0., 'Winter', 'No Holiday', 'Yes', 1., 0., 0., 1.),\n",
       "       ('2017-12-02', 606., 13.,  6. , 36., 1.8, 1780.,  -7.9, 1.12, 0. , 0., 'Winter', 'No Holiday', 'Yes', 1., 0., 0., 1.),\n",
       "       ('2017-12-02', 611., 14.,  7.3, 35., 1.3, 1955.,  -7.1, 0.99, 0. , 0., 'Winter', 'No Holiday', 'Yes', 1., 0., 0., 1.),\n",
       "       ('2017-12-02', 589., 15.,  7.6, 41., 2.3, 1953.,  -4.8, 0.74, 0. , 0., 'Winter', 'No Holiday', 'Yes', 1., 0., 0., 1.),\n",
       "       ('2017-12-02', 618., 16.,  6.4, 48., 2.6, 1945.,  -3.8, 0.22, 0. , 0., 'Winter', 'No Holiday', 'Yes', 1., 0., 0., 1.),\n",
       "       ('2017-12-02', 572., 17.,  6. , 51., 2.5, 1891.,  -3.3, 0.06, 0. , 0., 'Winter', 'No Holiday', 'Yes', 1., 0., 0., 1.),\n",
       "       ('2017-12-02', 489., 18.,  5.5, 53., 1.5, 1697.,  -3.3, 0.  , 0. , 0., 'Winter', 'No Holiday', 'Yes', 1., 0., 0., 1.),\n",
       "       ('2017-12-02', 385., 19.,  5. , 52., 2.3, 1666.,  -4. , 0.  , 0. , 0., 'Winter', 'No Holiday', 'Yes', 1., 0., 0., 1.),\n",
       "       ('2017-12-02', 359., 20.,  4.6, 51., 1.2, 1585.,  -4.6, 0.  , 0. , 0., 'Winter', 'No Holiday', 'Yes', 1., 0., 0., 1.),\n",
       "       ('2017-12-02', 377., 21.,  4.1, 55., 1.2, 1448.,  -4.1, 0.  , 0. , 0., 'Winter', 'No Holiday', 'Yes', 1., 0., 0., 1.),\n",
       "       ('2017-12-02', 354., 22.,  3.5, 54., 1.5, 1446.,  -4.9, 0.  , 0. , 0., 'Winter', 'No Holiday', 'Yes', 1., 0., 0., 1.),\n",
       "       ('2017-12-02', 366., 23.,  4. , 56., 1. , 1352.,  -4. , 0.  , 0. , 0., 'Winter', 'No Holiday', 'Yes', 1., 0., 0., 1.),\n",
       "       ('2017-12-03', 342.,  0.,  4. , 58., 1.4, 1296.,  -3.5, 0.  , 0. , 0., 'Winter', 'No Holiday', 'Yes', 2., 0., 0., 1.),\n",
       "       ('2017-12-03', 227.,  1.,  3.9, 69., 1.7,  485.,  -1.2, 0.  , 0. , 0., 'Winter', 'No Holiday', 'Yes', 2., 0., 0., 1.),\n",
       "       ('2017-12-03', 228.,  2.,  3.3, 79., 1.4,  830.,   0. , 0.  , 0. , 0., 'Winter', 'No Holiday', 'Yes', 2., 0., 0., 1.),\n",
       "       ('2017-12-03', 117.,  3.,  3.4, 71., 1.6, 1011.,  -1.3, 0.  , 0.5, 0., 'Winter', 'No Holiday', 'Yes', 2., 0., 0., 1.),\n",
       "       ('2017-12-03',  76.,  4.,  3.5, 73., 1. , 1060.,  -0.8, 0.  , 0. , 0., 'Winter', 'No Holiday', 'Yes', 2., 0., 0., 1.),\n",
       "       ('2017-12-03',  32.,  5.,  3.9, 75., 1.9,  914.,  -0.1, 0.  , 0. , 0., 'Winter', 'No Holiday', 'Yes', 2., 0., 0., 1.),\n",
       "       ('2017-12-03',  13.,  6.,  3.4, 86., 2.5,  278.,   1.2, 0.  , 1. , 0., 'Winter', 'No Holiday', 'Yes', 2., 0., 0., 1.),\n",
       "       ('2017-12-03',  22.,  7.,  3.1, 91., 1.2,  129.,   1.7, 0.  , 0. , 0., 'Winter', 'No Holiday', 'Yes', 2., 0., 0., 1.),\n",
       "       ('2017-12-03',  85.,  8.,  3.2, 92., 1.8,  244.,   2. , 0.  , 0. , 0., 'Winter', 'No Holiday', 'Yes', 2., 0., 0., 1.),\n",
       "       ('2017-12-03', 152.,  9.,  3.5, 91., 1.8,  231.,   2.1, 0.02, 2.5, 0., 'Winter', 'No Holiday', 'Yes', 2., 0., 0., 1.),\n",
       "       ('2017-12-03', 200., 10.,  4.4, 89., 2.2,  257.,   2.7, 0.24, 0. , 0., 'Winter', 'No Holiday', 'Yes', 2., 0., 0., 1.),\n",
       "       ('2017-12-03', 273., 11.,  5.1, 87., 1.4,  321.,   3.1, 0.25, 0. , 0., 'Winter', 'No Holiday', 'Yes', 2., 0., 0., 1.),\n",
       "       ('2017-12-03', 333., 12.,  5.8, 85., 1.7,  349.,   3.4, 0.43, 0. , 0., 'Winter', 'No Holiday', 'Yes', 2., 0., 0., 1.),\n",
       "       ('2017-12-03', 495., 13.,  6.8, 81., 1.9,  390.,   3.7, 0.6 , 0. , 0., 'Winter', 'No Holiday', 'Yes', 2., 0., 0., 1.),\n",
       "       ('2017-12-03', 563., 14.,  7.6, 76., 1.2,  422.,   3.6, 0.69, 0. , 0., 'Winter', 'No Holiday', 'Yes', 2., 0., 0., 1.),\n",
       "       ('2017-12-03', 621., 15.,  8. , 73., 1.6,  433.,   3.4, 0.53, 0. , 0., 'Winter', 'No Holiday', 'Yes', 2., 0., 0., 1.),\n",
       "       ('2017-12-03', 598., 16.,  7.6, 77., 1.6,  399.,   3.8, 0.2 , 0. , 0., 'Winter', 'No Holiday', 'Yes', 2., 0., 0., 1.),\n",
       "       ('2017-12-03', 545., 17.,  6.7, 82., 1.5,  358.,   3.8, 0.05, 0. , 0., 'Winter', 'No Holiday', 'Yes', 2., 0., 0., 1.),\n",
       "       ('2017-12-03', 443., 18.,  6. , 84., 1.9,  327.,   3.4, 0.  , 0. , 0., 'Winter', 'No Holiday', 'Yes', 2., 0., 0., 1.),\n",
       "       ('2017-12-03', 422., 19.,  5.7, 85., 1.7,  309.,   3.3, 0.  , 0. , 0., 'Winter', 'No Holiday', 'Yes', 2., 0., 0., 1.),\n",
       "       ('2017-12-03', 397., 20.,  5.2, 87., 1.4,  253.,   3.2, 0.  , 0. , 0., 'Winter', 'No Holiday', 'Yes', 2., 0., 0., 1.),\n",
       "       ('2017-12-03', 385., 21.,  4.7, 87., 1.2,  247.,   2.7, 0.  , 0. , 0., 'Winter', 'No Holiday', 'Yes', 2., 0., 0., 1.),\n",
       "       ('2017-12-03', 350., 22.,  4.3, 89., 1.8,  201.,   2.6, 0.  , 0. , 0., 'Winter', 'No Holiday', 'Yes', 2., 0., 0., 1.),\n",
       "       ('2017-12-03', 303., 23.,  3.9, 90., 1.3,  194.,   2.4, 0.  , 0. , 0., 'Winter', 'No Holiday', 'Yes', 2., 0., 0., 1.),\n",
       "       ('2017-12-04', 285.,  0.,  4.2, 88., 0.6,  216.,   2.3, 0.  , 0. , 0., 'Winter', 'No Holiday', 'Yes', 3., 0., 0., 1.),\n",
       "       ('2017-12-04', 186.,  1.,  4.3, 87., 0.5,  221.,   2.3, 0.  , 0. , 0., 'Winter', 'No Holiday', 'Yes', 3., 0., 0., 1.),\n",
       "       ('2017-12-04', 112.,  2.,  4.4, 87., 1.8,  207.,   2.4, 0.  , 0. , 0., 'Winter', 'No Holiday', 'Yes', 3., 0., 0., 1.),\n",
       "       ('2017-12-04',  65.,  3.,  3.6, 85., 2.3,  206.,   1.3, 0.  , 0. , 0., 'Winter', 'No Holiday', 'Yes', 3., 0., 0., 1.),\n",
       "       ('2017-12-04',  41.,  4.,  2.8, 89., 1.5,  130.,   1.1, 0.  , 0. , 0., 'Winter', 'No Holiday', 'Yes', 3., 0., 0., 1.),\n",
       "       ('2017-12-04',  82.,  5.,  2. , 83., 2.7,  253.,  -0.5, 0.  , 0. , 0., 'Winter', 'No Holiday', 'Yes', 3., 0., 0., 1.),\n",
       "       ('2017-12-04', 200.,  6.,  1.2, 76., 3.7,  371.,  -2.5, 0.  , 0.1, 0., 'Winter', 'No Holiday', 'Yes', 3., 0., 0., 1.),\n",
       "       ('2017-12-04', 498.,  7.,  0.2, 68., 3.4,  702.,  -5. , 0.  , 0. , 0., 'Winter', 'No Holiday', 'Yes', 3., 0., 0., 1.),\n",
       "       ('2017-12-04', 937.,  8., -0.8, 69., 3.5,  954.,  -5.7, 0.01, 0. , 0., 'Winter', 'No Holiday', 'Yes', 3., 0., 0., 1.),\n",
       "       ('2017-12-04', 509.,  9., -1.5, 47., 4.2, 1888., -11.3, 0.22, 0. , 0., 'Winter', 'No Holiday', 'Yes', 3., 0., 0., 1.),\n",
       "       ('2017-12-04', 311., 10., -1.1, 40., 4.5, 2000., -13. , 0.64, 0. , 0., 'Winter', 'No Holiday', 'Yes', 3., 0., 0., 1.),\n",
       "       ('2017-12-04', 379., 11., -0.5, 41., 4.1, 1799., -12.1, 0.94, 0. , 0., 'Winter', 'No Holiday', 'Yes', 3., 0., 0., 1.),\n",
       "       ('2017-12-04', 393., 12., -0.3, 38., 4.8, 1823., -12.9, 1.11, 0. , 0., 'Winter', 'No Holiday', 'Yes', 3., 0., 0., 1.),\n",
       "       ('2017-12-04', 391., 13.,  0. , 30., 5.4, 1938., -15.5, 1.17, 0. , 0., 'Winter', 'No Holiday', 'Yes', 3., 0., 0., 1.),\n",
       "       ('2017-12-04', 338., 14.,  0.1, 27., 4.5, 2000., -16.7, 1.09, 0. , 0., 'Winter', 'No Holiday', 'Yes', 3., 0., 0., 1.),\n",
       "       ('2017-12-04', 341., 15., -0.1, 25., 5.8, 2000., -17.8, 0.88, 0. , 0., 'Winter', 'No Holiday', 'Yes', 3., 0., 0., 1.),\n",
       "       ('2017-12-04', 375., 16., -0.2, 23., 4.7, 2000., -18.8, 0.55, 0. , 0., 'Winter', 'No Holiday', 'Yes', 3., 0., 0., 1.),\n",
       "       ('2017-12-04', 515., 17., -1.3, 26., 5.3, 2000., -18.3, 0.18, 0. , 0., 'Winter', 'No Holiday', 'Yes', 3., 0., 0., 1.),\n",
       "       ('2017-12-04', 807., 18., -2.1, 29., 3.9, 2000., -17.7, 0.  , 0. , 0., 'Winter', 'No Holiday', 'Yes', 3., 0., 0., 1.),\n",
       "       ('2017-12-04', 568., 19., -2.9, 32., 3.2, 2000., -17.3, 0.  , 0. , 0., 'Winter', 'No Holiday', 'Yes', 3., 0., 0., 1.),\n",
       "       ('2017-12-04', 398., 20., -3.6, 38., 3. , 2000., -15.8, 0.  , 0. , 0., 'Winter', 'No Holiday', 'Yes', 3., 0., 0., 1.),\n",
       "       ('2017-12-04', 397., 21., -4.6, 43., 4.5, 2000., -15.3, 0.  , 0. , 0., 'Winter', 'No Holiday', 'Yes', 3., 0., 0., 1.),\n",
       "       ('2017-12-04', 353., 22., -5.3, 45., 2.5, 2000., -15.3, 0.  , 0. , 0., 'Winter', 'No Holiday', 'Yes', 3., 0., 0., 1.),\n",
       "       ('2017-12-04', 248., 23., -5.8, 44., 2.4, 2000., -16.1, 0.  , 0. , 0., 'Winter', 'No Holiday', 'Yes', 3., 0., 0., 1.),\n",
       "       ('2017-12-05', 216.,  0., -6.1, 42., 2.6, 2000., -16.9, 0.  , 0. , 0., 'Winter', 'No Holiday', 'Yes', 4., 0., 0., 1.),\n",
       "       ('2017-12-05', 198.,  1., -6.5, 41., 2.8, 2000., -17.6, 0.  , 0. , 0., 'Winter', 'No Holiday', 'Yes', 4., 0., 0., 1.),\n",
       "       ('2017-12-05', 124.,  2., -6.8, 41., 2.5, 2000., -17.8, 0.  , 0. , 0., 'Winter', 'No Holiday', 'Yes', 4., 0., 0., 1.),\n",
       "       ('2017-12-05',  62.,  3., -6.9, 39., 2. , 2000., -18.5, 0.  , 0. , 0., 'Winter', 'No Holiday', 'Yes', 4., 0., 0., 1.),\n",
       "       ('2017-12-05',  42.,  4., -7.2, 34., 3. , 2000., -20.4, 0.  , 0. , 0., 'Winter', 'No Holiday', 'Yes', 4., 0., 0., 1.),\n",
       "       ('2017-12-05',  82.,  5., -7.4, 33., 2.6, 2000., -20.9, 0.  , 0. , 0., 'Winter', 'No Holiday', 'Yes', 4., 0., 0., 1.),\n",
       "       ('2017-12-05', 172.,  6., -7.4, 34., 3.2, 2000., -20.6, 0.  , 0. , 0., 'Winter', 'No Holiday', 'Yes', 4., 0., 0., 1.),\n",
       "       ('2017-12-05', 381.,  7., -7.5, 33., 2.2, 2000., -21. , 0.  , 0. , 0., 'Winter', 'No Holiday', 'Yes', 4., 0., 0., 1.),\n",
       "       ('2017-12-05', 812.,  8., -8.1, 36., 1.6, 2000., -20.5, 0.01, 0. , 0., 'Winter', 'No Holiday', 'Yes', 4., 0., 0., 1.),\n",
       "       ('2017-12-05', 462.,  9., -7.6, 31., 1.3, 1974., -21.8, 0.21, 0. , 0., 'Winter', 'No Holiday', 'Yes', 4., 0., 0., 1.),\n",
       "       ('2017-12-05', 269., 10., -5.5, 26., 2.8, 1967., -22. , 0.64, 0. , 0., 'Winter', 'No Holiday', 'Yes', 4., 0., 0., 1.),\n",
       "       ('2017-12-05', 334., 11., -3.9, 25., 0. , 1959., -21. , 0.  , 0. , 0., 'Winter', 'No Holiday', 'Yes', 4., 0., 0., 1.),\n",
       "       ('2017-12-05', 321., 12., -2.3, 25., 0. , 1962., -19.7, 0.  , 0. , 0., 'Winter', 'No Holiday', 'Yes', 4., 0., 0., 1.),\n",
       "       ('2017-12-05', 325., 13., -1.6, 27., 0. , 1955., -18.2, 0.  , 0. , 0., 'Winter', 'No Holiday', 'Yes', 4., 0., 0., 1.),\n",
       "       ('2017-12-05', 334., 14., -1.1, 28., 0. , 2000., -17.3, 0.  , 0. , 0., 'Winter', 'No Holiday', 'Yes', 4., 0., 0., 1.),\n",
       "       ('2017-12-05', 353., 15., -0.7, 28., 0. , 2000., -16.9, 0.  , 0. , 0., 'Winter', 'No Holiday', 'Yes', 4., 0., 0., 1.),\n",
       "       ('2017-12-05', 435., 16., -0.5, 30., 0. , 2000., -16. , 0.  , 0. , 0., 'Winter', 'No Holiday', 'Yes', 4., 0., 0., 1.),\n",
       "       ('2017-12-05', 529., 17., -1.6, 35., 0. , 2000., -15.1, 0.  , 0. , 0., 'Winter', 'No Holiday', 'Yes', 4., 0., 0., 1.),\n",
       "       ('2017-12-05', 789., 18., -2.6, 40., 0. , 2000., -14.4, 0.  , 0. , 0., 'Winter', 'No Holiday', 'Yes', 4., 0., 0., 1.),\n",
       "       ('2017-12-05', 597., 19., -3.2, 45., 0. , 2000., -13.5, 0.  , 0. , 0., 'Winter', 'No Holiday', 'Yes', 4., 0., 0., 1.),\n",
       "       ('2017-12-05', 418., 20., -3.5, 46., 0. , 2000., -13.4, 0.  , 0. , 0., 'Winter', 'No Holiday', 'Yes', 4., 0., 0., 1.),\n",
       "       ('2017-12-05', 415., 21., -3.7, 47., 0. , 2000., -13.3, 0.  , 0. , 0., 'Winter', 'No Holiday', 'Yes', 4., 0., 0., 1.),\n",
       "       ('2017-12-05', 393., 22., -2.8, 49., 0. , 2000., -12. , 0.  , 0. , 0., 'Winter', 'No Holiday', 'Yes', 4., 0., 0., 1.),\n",
       "       ('2017-12-05', 244., 23., -2.5, 59., 0. , 1210.,  -9.4, 0.  , 0. , 0., 'Winter', 'No Holiday', 'Yes', 4., 0., 0., 1.)],\n",
       "      dtype=[('Date', '<M8[D]'), ('Rented_Bike_Count', '<f8'), ('Hour', '<f8'), ('Temperature°C', '<f8'), ('Humidity', '<f8'), ('Wind_speed_ms', '<f8'), ('Visibility_10m', '<f8'), ('Dew_point_temperature°C', '<f8'), ('Solar_Radiation_MJm2', '<f8'), ('Rainfallmm', '<f8'), ('Snowfall_cm', '<f8'), ('Seasons', '<U6'), ('Holiday', '<U10'), ('Functioning_Day', '<U3'), ('Date_numeric', '<f8'), ('Season_numeric', '<f8'), ('Holiday_numeric', '<f8'), ('Functioning_day_numeric', '<f8')])"
      ]
     },
     "execution_count": 195,
     "metadata": {},
     "output_type": "execute_result"
    }
   ],
   "execution_count": 195
  },
  {
   "metadata": {
    "ExecuteTime": {
     "end_time": "2025-02-17T21:06:32.154272Z",
     "start_time": "2025-02-17T21:06:32.144165Z"
    }
   },
   "cell_type": "code",
   "source": [
    "# данные за первые 5 дней, кроме первого\n",
    "\n",
    "first_five_days_mask_without_first = (data['Date'] < np.datetime64('2017-12-06')) & (data['Date'] > np.datetime64('2017-12-01'))\n",
    "first_five_days_data_without_first = data[first_five_days_mask_without_first]\n",
    "\n",
    "first_five_days_data_without_first\n"
   ],
   "id": "b116f664750657b4",
   "outputs": [
    {
     "data": {
      "text/plain": [
       "array([('2017-12-02', 328.,  0., -1.8, 87., 1.1,  994.,  -3.6, 0.  , 0. , 0., 'Winter', 'No Holiday', 'Yes', 1., 0., 0., 1.),\n",
       "       ('2017-12-02', 308.,  1., -2.2, 86., 0.6,  990.,  -4.2, 0.  , 0. , 0., 'Winter', 'No Holiday', 'Yes', 1., 0., 0., 1.),\n",
       "       ('2017-12-02', 262.,  2., -2.9, 86., 1.5, 1256.,  -4.9, 0.  , 0. , 0., 'Winter', 'No Holiday', 'Yes', 1., 0., 0., 1.),\n",
       "       ('2017-12-02', 167.,  3., -3.5, 81., 2.2, 1221.,  -6.2, 0.  , 0. , 0., 'Winter', 'No Holiday', 'Yes', 1., 0., 0., 1.),\n",
       "       ('2017-12-02',  89.,  4., -3.8, 79., 2. , 1167.,  -6.9, 0.  , 0. , 0., 'Winter', 'No Holiday', 'Yes', 1., 0., 0., 1.),\n",
       "       ('2017-12-02',  79.,  5., -4. , 79., 1.5, 1202.,  -7.1, 0.  , 0. , 0., 'Winter', 'No Holiday', 'Yes', 1., 0., 0., 1.),\n",
       "       ('2017-12-02',  70.,  6., -4.3, 82., 2.1, 1178.,  -6.9, 0.  , 0. , 0., 'Winter', 'No Holiday', 'Yes', 1., 0., 0., 1.),\n",
       "       ('2017-12-02', 146.,  7., -4.4, 81., 2.5, 1276.,  -7.1, 0.  , 0. , 0., 'Winter', 'No Holiday', 'Yes', 1., 0., 0., 1.),\n",
       "       ('2017-12-02', 219.,  8., -4.2, 79., 2.1, 1436.,  -7.3, 0.01, 0. , 0., 'Winter', 'No Holiday', 'Yes', 1., 0., 0., 1.),\n",
       "       ('2017-12-02', 328.,  9., -2.9, 68., 1.6, 1487.,  -7.9, 0.3 , 0. , 0., 'Winter', 'No Holiday', 'Yes', 1., 0., 0., 1.),\n",
       "       ('2017-12-02', 334., 10., -0.4, 57., 1.6, 1309.,  -7.8, 0.8 , 0. , 0., 'Winter', 'No Holiday', 'Yes', 1., 0., 0., 1.),\n",
       "       ('2017-12-02', 388., 11.,  1.9, 49., 1.8, 1406.,  -7.7, 1.  , 0. , 0., 'Winter', 'No Holiday', 'Yes', 1., 0., 0., 1.),\n",
       "       ('2017-12-02', 479., 12.,  4.3, 41., 1.3, 1666.,  -7.8, 1.09, 0. , 0., 'Winter', 'No Holiday', 'Yes', 1., 0., 0., 1.),\n",
       "       ('2017-12-02', 606., 13.,  6. , 36., 1.8, 1780.,  -7.9, 1.12, 0. , 0., 'Winter', 'No Holiday', 'Yes', 1., 0., 0., 1.),\n",
       "       ('2017-12-02', 611., 14.,  7.3, 35., 1.3, 1955.,  -7.1, 0.99, 0. , 0., 'Winter', 'No Holiday', 'Yes', 1., 0., 0., 1.),\n",
       "       ('2017-12-02', 589., 15.,  7.6, 41., 2.3, 1953.,  -4.8, 0.74, 0. , 0., 'Winter', 'No Holiday', 'Yes', 1., 0., 0., 1.),\n",
       "       ('2017-12-02', 618., 16.,  6.4, 48., 2.6, 1945.,  -3.8, 0.22, 0. , 0., 'Winter', 'No Holiday', 'Yes', 1., 0., 0., 1.),\n",
       "       ('2017-12-02', 572., 17.,  6. , 51., 2.5, 1891.,  -3.3, 0.06, 0. , 0., 'Winter', 'No Holiday', 'Yes', 1., 0., 0., 1.),\n",
       "       ('2017-12-02', 489., 18.,  5.5, 53., 1.5, 1697.,  -3.3, 0.  , 0. , 0., 'Winter', 'No Holiday', 'Yes', 1., 0., 0., 1.),\n",
       "       ('2017-12-02', 385., 19.,  5. , 52., 2.3, 1666.,  -4. , 0.  , 0. , 0., 'Winter', 'No Holiday', 'Yes', 1., 0., 0., 1.),\n",
       "       ('2017-12-02', 359., 20.,  4.6, 51., 1.2, 1585.,  -4.6, 0.  , 0. , 0., 'Winter', 'No Holiday', 'Yes', 1., 0., 0., 1.),\n",
       "       ('2017-12-02', 377., 21.,  4.1, 55., 1.2, 1448.,  -4.1, 0.  , 0. , 0., 'Winter', 'No Holiday', 'Yes', 1., 0., 0., 1.),\n",
       "       ('2017-12-02', 354., 22.,  3.5, 54., 1.5, 1446.,  -4.9, 0.  , 0. , 0., 'Winter', 'No Holiday', 'Yes', 1., 0., 0., 1.),\n",
       "       ('2017-12-02', 366., 23.,  4. , 56., 1. , 1352.,  -4. , 0.  , 0. , 0., 'Winter', 'No Holiday', 'Yes', 1., 0., 0., 1.),\n",
       "       ('2017-12-03', 342.,  0.,  4. , 58., 1.4, 1296.,  -3.5, 0.  , 0. , 0., 'Winter', 'No Holiday', 'Yes', 2., 0., 0., 1.),\n",
       "       ('2017-12-03', 227.,  1.,  3.9, 69., 1.7,  485.,  -1.2, 0.  , 0. , 0., 'Winter', 'No Holiday', 'Yes', 2., 0., 0., 1.),\n",
       "       ('2017-12-03', 228.,  2.,  3.3, 79., 1.4,  830.,   0. , 0.  , 0. , 0., 'Winter', 'No Holiday', 'Yes', 2., 0., 0., 1.),\n",
       "       ('2017-12-03', 117.,  3.,  3.4, 71., 1.6, 1011.,  -1.3, 0.  , 0.5, 0., 'Winter', 'No Holiday', 'Yes', 2., 0., 0., 1.),\n",
       "       ('2017-12-03',  76.,  4.,  3.5, 73., 1. , 1060.,  -0.8, 0.  , 0. , 0., 'Winter', 'No Holiday', 'Yes', 2., 0., 0., 1.),\n",
       "       ('2017-12-03',  32.,  5.,  3.9, 75., 1.9,  914.,  -0.1, 0.  , 0. , 0., 'Winter', 'No Holiday', 'Yes', 2., 0., 0., 1.),\n",
       "       ('2017-12-03',  13.,  6.,  3.4, 86., 2.5,  278.,   1.2, 0.  , 1. , 0., 'Winter', 'No Holiday', 'Yes', 2., 0., 0., 1.),\n",
       "       ('2017-12-03',  22.,  7.,  3.1, 91., 1.2,  129.,   1.7, 0.  , 0. , 0., 'Winter', 'No Holiday', 'Yes', 2., 0., 0., 1.),\n",
       "       ('2017-12-03',  85.,  8.,  3.2, 92., 1.8,  244.,   2. , 0.  , 0. , 0., 'Winter', 'No Holiday', 'Yes', 2., 0., 0., 1.),\n",
       "       ('2017-12-03', 152.,  9.,  3.5, 91., 1.8,  231.,   2.1, 0.02, 2.5, 0., 'Winter', 'No Holiday', 'Yes', 2., 0., 0., 1.),\n",
       "       ('2017-12-03', 200., 10.,  4.4, 89., 2.2,  257.,   2.7, 0.24, 0. , 0., 'Winter', 'No Holiday', 'Yes', 2., 0., 0., 1.),\n",
       "       ('2017-12-03', 273., 11.,  5.1, 87., 1.4,  321.,   3.1, 0.25, 0. , 0., 'Winter', 'No Holiday', 'Yes', 2., 0., 0., 1.),\n",
       "       ('2017-12-03', 333., 12.,  5.8, 85., 1.7,  349.,   3.4, 0.43, 0. , 0., 'Winter', 'No Holiday', 'Yes', 2., 0., 0., 1.),\n",
       "       ('2017-12-03', 495., 13.,  6.8, 81., 1.9,  390.,   3.7, 0.6 , 0. , 0., 'Winter', 'No Holiday', 'Yes', 2., 0., 0., 1.),\n",
       "       ('2017-12-03', 563., 14.,  7.6, 76., 1.2,  422.,   3.6, 0.69, 0. , 0., 'Winter', 'No Holiday', 'Yes', 2., 0., 0., 1.),\n",
       "       ('2017-12-03', 621., 15.,  8. , 73., 1.6,  433.,   3.4, 0.53, 0. , 0., 'Winter', 'No Holiday', 'Yes', 2., 0., 0., 1.),\n",
       "       ('2017-12-03', 598., 16.,  7.6, 77., 1.6,  399.,   3.8, 0.2 , 0. , 0., 'Winter', 'No Holiday', 'Yes', 2., 0., 0., 1.),\n",
       "       ('2017-12-03', 545., 17.,  6.7, 82., 1.5,  358.,   3.8, 0.05, 0. , 0., 'Winter', 'No Holiday', 'Yes', 2., 0., 0., 1.),\n",
       "       ('2017-12-03', 443., 18.,  6. , 84., 1.9,  327.,   3.4, 0.  , 0. , 0., 'Winter', 'No Holiday', 'Yes', 2., 0., 0., 1.),\n",
       "       ('2017-12-03', 422., 19.,  5.7, 85., 1.7,  309.,   3.3, 0.  , 0. , 0., 'Winter', 'No Holiday', 'Yes', 2., 0., 0., 1.),\n",
       "       ('2017-12-03', 397., 20.,  5.2, 87., 1.4,  253.,   3.2, 0.  , 0. , 0., 'Winter', 'No Holiday', 'Yes', 2., 0., 0., 1.),\n",
       "       ('2017-12-03', 385., 21.,  4.7, 87., 1.2,  247.,   2.7, 0.  , 0. , 0., 'Winter', 'No Holiday', 'Yes', 2., 0., 0., 1.),\n",
       "       ('2017-12-03', 350., 22.,  4.3, 89., 1.8,  201.,   2.6, 0.  , 0. , 0., 'Winter', 'No Holiday', 'Yes', 2., 0., 0., 1.),\n",
       "       ('2017-12-03', 303., 23.,  3.9, 90., 1.3,  194.,   2.4, 0.  , 0. , 0., 'Winter', 'No Holiday', 'Yes', 2., 0., 0., 1.),\n",
       "       ('2017-12-04', 285.,  0.,  4.2, 88., 0.6,  216.,   2.3, 0.  , 0. , 0., 'Winter', 'No Holiday', 'Yes', 3., 0., 0., 1.),\n",
       "       ('2017-12-04', 186.,  1.,  4.3, 87., 0.5,  221.,   2.3, 0.  , 0. , 0., 'Winter', 'No Holiday', 'Yes', 3., 0., 0., 1.),\n",
       "       ('2017-12-04', 112.,  2.,  4.4, 87., 1.8,  207.,   2.4, 0.  , 0. , 0., 'Winter', 'No Holiday', 'Yes', 3., 0., 0., 1.),\n",
       "       ('2017-12-04',  65.,  3.,  3.6, 85., 2.3,  206.,   1.3, 0.  , 0. , 0., 'Winter', 'No Holiday', 'Yes', 3., 0., 0., 1.),\n",
       "       ('2017-12-04',  41.,  4.,  2.8, 89., 1.5,  130.,   1.1, 0.  , 0. , 0., 'Winter', 'No Holiday', 'Yes', 3., 0., 0., 1.),\n",
       "       ('2017-12-04',  82.,  5.,  2. , 83., 2.7,  253.,  -0.5, 0.  , 0. , 0., 'Winter', 'No Holiday', 'Yes', 3., 0., 0., 1.),\n",
       "       ('2017-12-04', 200.,  6.,  1.2, 76., 3.7,  371.,  -2.5, 0.  , 0.1, 0., 'Winter', 'No Holiday', 'Yes', 3., 0., 0., 1.),\n",
       "       ('2017-12-04', 498.,  7.,  0.2, 68., 3.4,  702.,  -5. , 0.  , 0. , 0., 'Winter', 'No Holiday', 'Yes', 3., 0., 0., 1.),\n",
       "       ('2017-12-04', 937.,  8., -0.8, 69., 3.5,  954.,  -5.7, 0.01, 0. , 0., 'Winter', 'No Holiday', 'Yes', 3., 0., 0., 1.),\n",
       "       ('2017-12-04', 509.,  9., -1.5, 47., 4.2, 1888., -11.3, 0.22, 0. , 0., 'Winter', 'No Holiday', 'Yes', 3., 0., 0., 1.),\n",
       "       ('2017-12-04', 311., 10., -1.1, 40., 4.5, 2000., -13. , 0.64, 0. , 0., 'Winter', 'No Holiday', 'Yes', 3., 0., 0., 1.),\n",
       "       ('2017-12-04', 379., 11., -0.5, 41., 4.1, 1799., -12.1, 0.94, 0. , 0., 'Winter', 'No Holiday', 'Yes', 3., 0., 0., 1.),\n",
       "       ('2017-12-04', 393., 12., -0.3, 38., 4.8, 1823., -12.9, 1.11, 0. , 0., 'Winter', 'No Holiday', 'Yes', 3., 0., 0., 1.),\n",
       "       ('2017-12-04', 391., 13.,  0. , 30., 5.4, 1938., -15.5, 1.17, 0. , 0., 'Winter', 'No Holiday', 'Yes', 3., 0., 0., 1.),\n",
       "       ('2017-12-04', 338., 14.,  0.1, 27., 4.5, 2000., -16.7, 1.09, 0. , 0., 'Winter', 'No Holiday', 'Yes', 3., 0., 0., 1.),\n",
       "       ('2017-12-04', 341., 15., -0.1, 25., 5.8, 2000., -17.8, 0.88, 0. , 0., 'Winter', 'No Holiday', 'Yes', 3., 0., 0., 1.),\n",
       "       ('2017-12-04', 375., 16., -0.2, 23., 4.7, 2000., -18.8, 0.55, 0. , 0., 'Winter', 'No Holiday', 'Yes', 3., 0., 0., 1.),\n",
       "       ('2017-12-04', 515., 17., -1.3, 26., 5.3, 2000., -18.3, 0.18, 0. , 0., 'Winter', 'No Holiday', 'Yes', 3., 0., 0., 1.),\n",
       "       ('2017-12-04', 807., 18., -2.1, 29., 3.9, 2000., -17.7, 0.  , 0. , 0., 'Winter', 'No Holiday', 'Yes', 3., 0., 0., 1.),\n",
       "       ('2017-12-04', 568., 19., -2.9, 32., 3.2, 2000., -17.3, 0.  , 0. , 0., 'Winter', 'No Holiday', 'Yes', 3., 0., 0., 1.),\n",
       "       ('2017-12-04', 398., 20., -3.6, 38., 3. , 2000., -15.8, 0.  , 0. , 0., 'Winter', 'No Holiday', 'Yes', 3., 0., 0., 1.),\n",
       "       ('2017-12-04', 397., 21., -4.6, 43., 4.5, 2000., -15.3, 0.  , 0. , 0., 'Winter', 'No Holiday', 'Yes', 3., 0., 0., 1.),\n",
       "       ('2017-12-04', 353., 22., -5.3, 45., 2.5, 2000., -15.3, 0.  , 0. , 0., 'Winter', 'No Holiday', 'Yes', 3., 0., 0., 1.),\n",
       "       ('2017-12-04', 248., 23., -5.8, 44., 2.4, 2000., -16.1, 0.  , 0. , 0., 'Winter', 'No Holiday', 'Yes', 3., 0., 0., 1.),\n",
       "       ('2017-12-05', 216.,  0., -6.1, 42., 2.6, 2000., -16.9, 0.  , 0. , 0., 'Winter', 'No Holiday', 'Yes', 4., 0., 0., 1.),\n",
       "       ('2017-12-05', 198.,  1., -6.5, 41., 2.8, 2000., -17.6, 0.  , 0. , 0., 'Winter', 'No Holiday', 'Yes', 4., 0., 0., 1.),\n",
       "       ('2017-12-05', 124.,  2., -6.8, 41., 2.5, 2000., -17.8, 0.  , 0. , 0., 'Winter', 'No Holiday', 'Yes', 4., 0., 0., 1.),\n",
       "       ('2017-12-05',  62.,  3., -6.9, 39., 2. , 2000., -18.5, 0.  , 0. , 0., 'Winter', 'No Holiday', 'Yes', 4., 0., 0., 1.),\n",
       "       ('2017-12-05',  42.,  4., -7.2, 34., 3. , 2000., -20.4, 0.  , 0. , 0., 'Winter', 'No Holiday', 'Yes', 4., 0., 0., 1.),\n",
       "       ('2017-12-05',  82.,  5., -7.4, 33., 2.6, 2000., -20.9, 0.  , 0. , 0., 'Winter', 'No Holiday', 'Yes', 4., 0., 0., 1.),\n",
       "       ('2017-12-05', 172.,  6., -7.4, 34., 3.2, 2000., -20.6, 0.  , 0. , 0., 'Winter', 'No Holiday', 'Yes', 4., 0., 0., 1.),\n",
       "       ('2017-12-05', 381.,  7., -7.5, 33., 2.2, 2000., -21. , 0.  , 0. , 0., 'Winter', 'No Holiday', 'Yes', 4., 0., 0., 1.),\n",
       "       ('2017-12-05', 812.,  8., -8.1, 36., 1.6, 2000., -20.5, 0.01, 0. , 0., 'Winter', 'No Holiday', 'Yes', 4., 0., 0., 1.),\n",
       "       ('2017-12-05', 462.,  9., -7.6, 31., 1.3, 1974., -21.8, 0.21, 0. , 0., 'Winter', 'No Holiday', 'Yes', 4., 0., 0., 1.),\n",
       "       ('2017-12-05', 269., 10., -5.5, 26., 2.8, 1967., -22. , 0.64, 0. , 0., 'Winter', 'No Holiday', 'Yes', 4., 0., 0., 1.),\n",
       "       ('2017-12-05', 334., 11., -3.9, 25., 0. , 1959., -21. , 0.  , 0. , 0., 'Winter', 'No Holiday', 'Yes', 4., 0., 0., 1.),\n",
       "       ('2017-12-05', 321., 12., -2.3, 25., 0. , 1962., -19.7, 0.  , 0. , 0., 'Winter', 'No Holiday', 'Yes', 4., 0., 0., 1.),\n",
       "       ('2017-12-05', 325., 13., -1.6, 27., 0. , 1955., -18.2, 0.  , 0. , 0., 'Winter', 'No Holiday', 'Yes', 4., 0., 0., 1.),\n",
       "       ('2017-12-05', 334., 14., -1.1, 28., 0. , 2000., -17.3, 0.  , 0. , 0., 'Winter', 'No Holiday', 'Yes', 4., 0., 0., 1.),\n",
       "       ('2017-12-05', 353., 15., -0.7, 28., 0. , 2000., -16.9, 0.  , 0. , 0., 'Winter', 'No Holiday', 'Yes', 4., 0., 0., 1.),\n",
       "       ('2017-12-05', 435., 16., -0.5, 30., 0. , 2000., -16. , 0.  , 0. , 0., 'Winter', 'No Holiday', 'Yes', 4., 0., 0., 1.),\n",
       "       ('2017-12-05', 529., 17., -1.6, 35., 0. , 2000., -15.1, 0.  , 0. , 0., 'Winter', 'No Holiday', 'Yes', 4., 0., 0., 1.),\n",
       "       ('2017-12-05', 789., 18., -2.6, 40., 0. , 2000., -14.4, 0.  , 0. , 0., 'Winter', 'No Holiday', 'Yes', 4., 0., 0., 1.),\n",
       "       ('2017-12-05', 597., 19., -3.2, 45., 0. , 2000., -13.5, 0.  , 0. , 0., 'Winter', 'No Holiday', 'Yes', 4., 0., 0., 1.),\n",
       "       ('2017-12-05', 418., 20., -3.5, 46., 0. , 2000., -13.4, 0.  , 0. , 0., 'Winter', 'No Holiday', 'Yes', 4., 0., 0., 1.),\n",
       "       ('2017-12-05', 415., 21., -3.7, 47., 0. , 2000., -13.3, 0.  , 0. , 0., 'Winter', 'No Holiday', 'Yes', 4., 0., 0., 1.),\n",
       "       ('2017-12-05', 393., 22., -2.8, 49., 0. , 2000., -12. , 0.  , 0. , 0., 'Winter', 'No Holiday', 'Yes', 4., 0., 0., 1.),\n",
       "       ('2017-12-05', 244., 23., -2.5, 59., 0. , 1210.,  -9.4, 0.  , 0. , 0., 'Winter', 'No Holiday', 'Yes', 4., 0., 0., 1.)],\n",
       "      dtype=[('Date', '<M8[D]'), ('Rented_Bike_Count', '<f8'), ('Hour', '<f8'), ('Temperature°C', '<f8'), ('Humidity', '<f8'), ('Wind_speed_ms', '<f8'), ('Visibility_10m', '<f8'), ('Dew_point_temperature°C', '<f8'), ('Solar_Radiation_MJm2', '<f8'), ('Rainfallmm', '<f8'), ('Snowfall_cm', '<f8'), ('Seasons', '<U6'), ('Holiday', '<U10'), ('Functioning_Day', '<U3'), ('Date_numeric', '<f8'), ('Season_numeric', '<f8'), ('Holiday_numeric', '<f8'), ('Functioning_day_numeric', '<f8')])"
      ]
     },
     "execution_count": 196,
     "metadata": {},
     "output_type": "execute_result"
    }
   ],
   "execution_count": 196
  },
  {
   "metadata": {
    "ExecuteTime": {
     "end_time": "2025-02-17T21:07:36.850786Z",
     "start_time": "2025-02-17T21:07:36.842429Z"
    }
   },
   "cell_type": "code",
   "source": [
    "# данные за первый час каждого дня июня 2018 года\n",
    "\n",
    "first_hour_of_june_2018_mask = (data['Date'] >= np.datetime64('2018-06-01')) & (data['Date'] < np.datetime64('2018-07-01')) & (data['Hour'] == 0)\n",
    "first_hour_of_june_2018_data = data[first_hour_of_june_2018_mask]\n",
    "\n",
    "first_hour_of_june_2018_data\n"
   ],
   "id": "4ecbda519b366f4b",
   "outputs": [
    {
     "data": {
      "text/plain": [
       "array([('2018-06-01',  963., 0., 20.1, 63., 1.1, 1698., 12.8, 0., 0., 0., 'Summer', 'No Holiday', 'Yes', 182., 2., 0., 1.),\n",
       "       ('2018-06-02', 1165., 0., 20.9, 53., 1.4, 1717., 10.9, 0., 0., 0., 'Summer', 'No Holiday', 'Yes', 183., 2., 0., 1.),\n",
       "       ('2018-06-03', 1248., 0., 19.7, 55., 2. , 1986., 10.3, 0., 0., 0., 'Summer', 'No Holiday', 'Yes', 184., 2., 0., 1.),\n",
       "       ('2018-06-04',  938., 0., 21.4, 45., 1.4, 1964.,  8.9, 0., 0., 0., 'Summer', 'No Holiday', 'Yes', 185., 2., 0., 1.),\n",
       "       ('2018-06-05',  927., 0., 20.5, 71., 2.8, 1204., 15. , 0., 0., 0., 'Summer', 'No Holiday', 'Yes', 186., 2., 0., 1.),\n",
       "       ('2018-06-06', 1268., 0., 21.2, 60., 0.9, 1789., 13.1, 0., 0., 0., 'Summer', 'Holiday', 'Yes', 187., 2., 1., 1.),\n",
       "       ('2018-06-07',  978., 0., 19.6, 82., 1.7,  628., 16.4, 0., 0., 0., 'Summer', 'No Holiday', 'Yes', 188., 2., 0., 1.),\n",
       "       ('2018-06-08',  926., 0., 19.1, 82., 2.2,  874., 15.9, 0., 0., 0., 'Summer', 'No Holiday', 'Yes', 189., 2., 0., 1.),\n",
       "       ('2018-06-09', 1247., 0., 19.7, 83., 1.5,  390., 16.7, 0., 0., 0., 'Summer', 'No Holiday', 'Yes', 190., 2., 0., 1.),\n",
       "       ('2018-06-10',  483., 0., 20.2, 66., 1.5, 2000., 13.6, 0., 0., 0., 'Summer', 'No Holiday', 'Yes', 191., 2., 0., 1.),\n",
       "       ('2018-06-11',  918., 0., 20.3, 58., 1.4, 2000., 11.7, 0., 0., 0., 'Summer', 'No Holiday', 'Yes', 192., 2., 0., 1.),\n",
       "       ('2018-06-12',  470., 0., 18. , 94., 0.7, 1906., 17. , 0., 1., 0., 'Summer', 'No Holiday', 'Yes', 193., 2., 0., 1.),\n",
       "       ('2018-06-13', 1274., 0., 19.3, 76., 1.2, 1968., 14.9, 0., 0., 0., 'Summer', 'No Holiday', 'Yes', 194., 2., 0., 1.),\n",
       "       ('2018-06-14', 1047., 0., 21.1, 69., 0.5, 1086., 15.1, 0., 0., 0., 'Summer', 'No Holiday', 'Yes', 195., 2., 0., 1.),\n",
       "       ('2018-06-15',  986., 0., 21. , 70., 0.9, 2000., 15.3, 0., 0., 0., 'Summer', 'No Holiday', 'Yes', 196., 2., 0., 1.),\n",
       "       ('2018-06-16', 1217., 0., 19. , 57., 1.6, 2000., 10.2, 0., 0., 0., 'Summer', 'No Holiday', 'Yes', 197., 2., 0., 1.),\n",
       "       ('2018-06-17', 1394., 0., 21.5, 76., 1.4, 1015., 17. , 0., 0., 0., 'Summer', 'No Holiday', 'Yes', 198., 2., 0., 1.),\n",
       "       ('2018-06-18',  917., 0., 21.3, 74., 1.4,  963., 16.4, 0., 0., 0., 'Summer', 'No Holiday', 'Yes', 199., 2., 0., 1.),\n",
       "       ('2018-06-19', 1055., 0., 21.5, 63., 1. , 1740., 14.1, 0., 0., 0., 'Summer', 'No Holiday', 'Yes', 200., 2., 0., 1.),\n",
       "       ('2018-06-20', 1030., 0., 19.7, 71., 2. , 1330., 14.2, 0., 0., 0., 'Summer', 'No Holiday', 'Yes', 201., 2., 0., 1.),\n",
       "       ('2018-06-21', 1083., 0., 20. , 83., 2.6,  547., 17. , 0., 0., 0., 'Summer', 'No Holiday', 'Yes', 202., 2., 0., 1.),\n",
       "       ('2018-06-22', 1137., 0., 20.7, 67., 1.9,  885., 14.3, 0., 0., 0., 'Summer', 'No Holiday', 'Yes', 203., 2., 0., 1.),\n",
       "       ('2018-06-23', 1322., 0., 22.7, 36., 1.5, 2000.,  6.8, 0., 0., 0., 'Summer', 'No Holiday', 'Yes', 204., 2., 0., 1.),\n",
       "       ('2018-06-24',  849., 0., 22. , 81., 1.6,  374., 18.5, 0., 0., 0., 'Summer', 'No Holiday', 'Yes', 205., 2., 0., 1.),\n",
       "       ('2018-06-25',  962., 0., 22.9, 79., 0.6,  715., 19. , 0., 0., 0., 'Summer', 'No Holiday', 'Yes', 206., 2., 0., 1.),\n",
       "       ('2018-06-26', 1052., 0., 26.9, 61., 1.5,  805., 18.7, 0., 0., 0., 'Summer', 'No Holiday', 'Yes', 207., 2., 0., 1.),\n",
       "       ('2018-06-27',  513., 0., 20.5, 94., 3.7,  896., 19.4, 0., 0., 0., 'Summer', 'No Holiday', 'Yes', 208., 2., 0., 1.),\n",
       "       ('2018-06-28',  561., 0., 22.2, 84., 1.1,  482., 19.3, 0., 0., 0., 'Summer', 'No Holiday', 'Yes', 209., 2., 0., 1.),\n",
       "       ('2018-06-29',  470., 0., 21.9, 95., 1.9,  357., 21. , 0., 0., 0., 'Summer', 'No Holiday', 'Yes', 210., 2., 0., 1.),\n",
       "       ('2018-06-30', 1275., 0., 23. , 84., 1.9,  375., 20.1, 0., 0., 0., 'Summer', 'No Holiday', 'Yes', 211., 2., 0., 1.)],\n",
       "      dtype=[('Date', '<M8[D]'), ('Rented_Bike_Count', '<f8'), ('Hour', '<f8'), ('Temperature°C', '<f8'), ('Humidity', '<f8'), ('Wind_speed_ms', '<f8'), ('Visibility_10m', '<f8'), ('Dew_point_temperature°C', '<f8'), ('Solar_Radiation_MJm2', '<f8'), ('Rainfallmm', '<f8'), ('Snowfall_cm', '<f8'), ('Seasons', '<U6'), ('Holiday', '<U10'), ('Functioning_Day', '<U3'), ('Date_numeric', '<f8'), ('Season_numeric', '<f8'), ('Holiday_numeric', '<f8'), ('Functioning_day_numeric', '<f8')])"
      ]
     },
     "execution_count": 197,
     "metadata": {},
     "output_type": "execute_result"
    }
   ],
   "execution_count": 197
  },
  {
   "metadata": {},
   "cell_type": "code",
   "outputs": [],
   "execution_count": null,
   "source": "",
   "id": "6b56c40488414e80"
  }
 ],
 "metadata": {
  "kernelspec": {
   "display_name": "Python 3",
   "language": "python",
   "name": "python3"
  },
  "language_info": {
   "codemirror_mode": {
    "name": "ipython",
    "version": 2
   },
   "file_extension": ".py",
   "mimetype": "text/x-python",
   "name": "python",
   "nbconvert_exporter": "python",
   "pygments_lexer": "ipython2",
   "version": "2.7.6"
  }
 },
 "nbformat": 4,
 "nbformat_minor": 5
}
